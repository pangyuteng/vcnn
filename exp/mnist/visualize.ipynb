{
 "cells": [
  {
   "cell_type": "code",
   "execution_count": 64,
   "metadata": {
    "collapsed": true
   },
   "outputs": [],
   "source": [
    "import matplotlib.ticker as plticker\n",
    "import matplotlib.pyplot as plt\n",
    "%matplotlib inline\n",
    "import numpy as np"
   ]
  },
  {
   "cell_type": "code",
   "execution_count": 65,
   "metadata": {
    "collapsed": false
   },
   "outputs": [
    {
     "name": "stdout",
     "output_type": "stream",
     "text": [
      "('arr_0', (32, 1, 5, 5))\n"
     ]
    }
   ],
   "source": [
    "w = np.load('weights.npz')\n",
    "name = 'arr_0'\n",
    "print(name,w[name].shape)\n",
    "sz = [4,8,5,5] \n",
    "ind = 2"
   ]
  },
  {
   "cell_type": "code",
   "execution_count": 66,
   "metadata": {
    "collapsed": false
   },
   "outputs": [],
   "source": [
    "img = np.squeeze(w[name])\n",
    "tiled = img.reshape(*sz).swapaxes(1,2)\n",
    "tiled = tiled.reshape(sz[0]*sz[2],sz[1]*sz[3])"
   ]
  },
  {
   "cell_type": "code",
   "execution_count": 63,
   "metadata": {
    "collapsed": false
   },
   "outputs": [
    {
     "data": {
      "text/plain": [
       "<matplotlib.image.AxesImage at 0x7f7bfc3d6b50>"
      ]
     },
     "execution_count": 63,
     "metadata": {},
     "output_type": "execute_result"
    },
    {
     "data": {
      "image/png": "[encoded data removed]",
      "text/plain": [
       "<matplotlib.figure.Figure at 0x7f7bfc083350>"
      ]
     },
     "metadata": {},
     "output_type": "display_data"
    }
   ],
   "source": [
    "ax=plt.subplot(111)\n",
    "myInterval=sz[ind]\n",
    "loc = plticker.MultipleLocator(base=myInterval)\n",
    "ax.xaxis.set_major_locator(loc)\n",
    "ax.grid(which='major', axis='both', linestyle='-',color='white',linewidth=2)\n",
    "ax.imshow(tiled,cmap='gray',interpolation='none')"
   ]
  },
  {
   "cell_type": "code",
   "execution_count": 99,
   "metadata": {
    "collapsed": false
   },
   "outputs": [
    {
     "name": "stdout",
     "output_type": "stream",
     "text": [
      "('arr_0', (32, 1, 5, 5))\n"
     ]
    },
    {
     "data": {
      "text/plain": [
       "<matplotlib.image.AxesImage at 0x7f7bfa736fd0>"
      ]
     },
     "execution_count": 99,
     "metadata": {},
     "output_type": "execute_result"
    },
    {
     "data": {
      "image/png": "[encoded data removed]",
      "text/plain": [
       "<matplotlib.figure.Figure at 0x7f7bfa928c10>"
      ]
     },
     "metadata": {},
     "output_type": "display_data"
    }
   ],
   "source": [
    "w = np.load('weights.npz')\n",
    "name = 'arr_0'\n",
    "print(name,w[name].shape)\n",
    "sz = [4,8,5,5] \n",
    "ind = 2\n",
    "\n",
    "img = np.squeeze(w[name])\n",
    "tiled = img.reshape(*sz).swapaxes(1,2)\n",
    "tiled = tiled.reshape(sz[0]*sz[2],sz[1]*sz[3])\n",
    "\n",
    "ax=plt.subplot(111)\n",
    "myInterval=sz[ind]\n",
    "loc = plticker.MultipleLocator(base=myInterval)\n",
    "ax.xaxis.set_major_locator(loc)\n",
    "ax.grid(which='major', axis='both', linestyle='-',color='white',linewidth=1)\n",
    "ax.imshow(tiled,cmap='gray',interpolation='none')"
   ]
  },
  {
   "cell_type": "code",
   "execution_count": null,
   "metadata": {
    "collapsed": true
   },
   "outputs": [],
   "source": []
  }
 ],
 "metadata": {
  "kernelspec": {
   "display_name": "Python 2",
   "language": "python",
   "name": "python2"
  },
  "language_info": {
   "codemirror_mode": {
    "name": "ipython",
    "version": 2
   },
   "file_extension": ".py",
   "mimetype": "text/x-python",
   "name": "python",
   "nbconvert_exporter": "python",
   "pygments_lexer": "ipython2",
   "version": "2.7.6"
  }
 },
 "nbformat": 4,
 "nbformat_minor": 0
}
